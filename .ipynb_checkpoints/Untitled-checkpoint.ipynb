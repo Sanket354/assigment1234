{
 "cells": [
  {
   "cell_type": "code",
   "execution_count": 2,
   "id": "a89c247f-4008-4e84-9045-3951d48e1fc6",
   "metadata": {},
   "outputs": [
    {
     "name": "stdout",
     "output_type": "stream",
     "text": [
      "8\n"
     ]
    }
   ],
   "source": [
    "# assigment1\n",
    "## A lambada function in python in aanonymous function defined using the lambda\n",
    "add=lambda x,y:x+y\n",
    "print(add(3,5))"
   ]
  },
  {
   "cell_type": "code",
   "execution_count": 5,
   "id": "b33769bc-d7ca-4b27-8584-02420813507d",
   "metadata": {},
   "outputs": [
    {
     "name": "stdout",
     "output_type": "stream",
     "text": [
      "24\n"
     ]
    }
   ],
   "source": [
    "# assigment2\n",
    "## A Lambda function in python with multiple arguments defined using the Lambda\n",
    "lambda1=lambda x,y,z:x*y*z\n",
    "print(lambda1(2,3,4))"
   ]
  },
  {
   "cell_type": "code",
   "execution_count": 7,
   "id": "14ed9e29-74af-4fe3-b2bf-4bf7868fceb9",
   "metadata": {},
   "outputs": [
    {
     "name": "stdout",
     "output_type": "stream",
     "text": [
      "[('Bob', 25), ('Alice', 30), ('Charlie', 35)]\n"
     ]
    }
   ],
   "source": [
    "# assigment 3\n",
    "## Lammbda function in python are typically used in situation small,anonymous function\n",
    "people=[(\"Alice\",30),(\"Bob\",25),(\"Charlie\",35)]\n",
    "\n",
    "sorted_people=sorted(people,key=lambda x: x[1])\n",
    "print(sorted_people)"
   ]
  },
  {
   "cell_type": "code",
   "execution_count": 11,
   "id": "be27b412-1ad3-4639-8428-7dbbdcf21b0b",
   "metadata": {},
   "outputs": [
    {
     "name": "stdout",
     "output_type": "stream",
     "text": [
      "8\n",
      "[1, 4, 9, 16, 25]\n",
      "[0, 2, 4, 6, 8]\n",
      "[0, 2, 4, 6, 8]\n"
     ]
    }
   ],
   "source": [
    "# Assigment 4\n",
    "## using def function in lambda\n",
    "def add(x,y):\n",
    "    return x+y\n",
    "print(add(3,5))\n",
    "\n",
    "## using list in lambda\n",
    "numbers=[1,2,3,4,5]\n",
    "squared=list(map(lambda x:x**2,numbers))\n",
    "print(squared)\n",
    "\n",
    "## using lambda limited\n",
    "even_numbers=list(filter(lambda x: x%2==0,range(10)))\n",
    "print(even_numbers)\n",
    "\n",
    "def is_even(x):\n",
    "    return x%2==0\n",
    "even_numbers=list(filter(is_even,range(10)))\n",
    "print(even_numbers)"
   ]
  },
  {
   "cell_type": "code",
   "execution_count": 13,
   "id": "d5f2a9b3-47f4-49a6-b0b8-45af60c1c9fa",
   "metadata": {},
   "outputs": [
    {
     "name": "stdout",
     "output_type": "stream",
     "text": [
      "15\n"
     ]
    }
   ],
   "source": [
    "# assigment 5\n",
    "## lambda function in python defined outside\n",
    "def outer_func():\n",
    "    x=10\n",
    "    inner_lambda=lambda y:x+y\n",
    "    return inner_lambda\n",
    "\n",
    "add_func=outer_func()\n",
    "result=add_func(5)\n",
    "print(result)"
   ]
  },
  {
   "cell_type": "code",
   "execution_count": 14,
   "id": "c3416505-3fdf-4c88-9bfa-a755d5be3bf3",
   "metadata": {},
   "outputs": [
    {
     "name": "stdout",
     "output_type": "stream",
     "text": [
      "25\n",
      "100\n"
     ]
    }
   ],
   "source": [
    "# assigment 6\n",
    "## calculate the  lambda function to square of a given number\n",
    "square=lambda x:x**2\n",
    "print(square(5))\n",
    "print(square(10))"
   ]
  },
  {
   "cell_type": "code",
   "execution_count": 15,
   "id": "a85716fc-9572-4619-b720-6141aa9f5a06",
   "metadata": {},
   "outputs": [
    {
     "name": "stdout",
     "output_type": "stream",
     "text": [
      "20\n"
     ]
    }
   ],
   "source": [
    "# assigment 7\n",
    "## lambda function to find the maximum value in a list of integers\n",
    "max_value=lambda lst:max(lst)\n",
    "numbers=[10,5,8,20,15]\n",
    "print(max_value(numbers))"
   ]
  },
  {
   "cell_type": "code",
   "execution_count": 16,
   "id": "ff04a9ec-de99-47dd-a515-c0afee57becc",
   "metadata": {},
   "outputs": [
    {
     "name": "stdout",
     "output_type": "stream",
     "text": [
      "[2, 4, 6, 8, 10]\n"
     ]
    }
   ],
   "source": [
    "# assigment 8\n",
    "## lambda function to filter out all the even numbers from a list of integers\n",
    "filter_even=lambda lst:list(filter(lambda x: x%2==0, lst))\n",
    "numbers=[1,2,3,4,5,6,7,8,9,10]\n",
    "print(filter_even(numbers))"
   ]
  },
  {
   "cell_type": "code",
   "execution_count": 17,
   "id": "8a4fb7ad-ae15-49fb-b21d-9dbd42915b92",
   "metadata": {},
   "outputs": [
    {
     "name": "stdout",
     "output_type": "stream",
     "text": [
      "['kiwi', 'pear', 'apple', 'banana', 'orange', 'cherry']\n"
     ]
    }
   ],
   "source": [
    "# assigment 9\n",
    "## lambda function to sort a list\n",
    "sort_by_length=lambda lst: sorted(lst, key=lambda x: len(x))\n",
    "strings=[\"apple\",\"banana\",\"orange\",\"cherry\",\"kiwi\",\"pear\"]\n",
    "print(sort_by_length(strings))"
   ]
  },
  {
   "cell_type": "code",
   "execution_count": 19,
   "id": "8f360509-8031-48ba-8235-dc9bfe957f18",
   "metadata": {},
   "outputs": [
    {
     "name": "stdout",
     "output_type": "stream",
     "text": [
      "[4, 5]\n"
     ]
    }
   ],
   "source": [
    "# assigment 10\n",
    "##  lambdafunction two list as input and returns a new list\n",
    "find_common_elementes=lambda list1,list2: list(filter(lambda x:x in list1,list2))\n",
    "list1=[1,2,3,4,5]\n",
    "list2=[4,5,6,7,8]\n",
    "print(find_common_elementes(list1,list2))"
   ]
  },
  {
   "cell_type": "code",
   "execution_count": 23,
   "id": "5b56c906-952c-46b4-9d04-82c6e57ae21b",
   "metadata": {},
   "outputs": [
    {
     "name": "stdout",
     "output_type": "stream",
     "text": [
      "5\n"
     ]
    }
   ],
   "source": [
    "# assigment 12\n",
    "## fabonacci series\n",
    "def  fibonacci(n):\n",
    "    if n==0:\n",
    "        return 0\n",
    "    elif n==1:\n",
    "        return 1\n",
    "    else:\n",
    "        return fibonacci(n-1)+fibonacci(n-2)\n",
    "print(fibonacci(5))"
   ]
  },
  {
   "cell_type": "code",
   "execution_count": 50,
   "id": "f0f973a6-18e6-4ddb-aa92-22f8bce75225",
   "metadata": {},
   "outputs": [
    {
     "name": "stdin",
     "output_type": "stream",
     "text": [
      "Enter number 5\n"
     ]
    },
    {
     "name": "stdout",
     "output_type": "stream",
     "text": [
      "120\n"
     ]
    }
   ],
   "source": [
    "# assigmen\\\n",
    "mul=1\n",
    "n=int(input(\"Enter number\"))\n",
    "for i in range (1,n+1):\n",
    "    mul=mul*i\n",
    "print(mul)"
   ]
  },
  {
   "cell_type": "code",
   "execution_count": 25,
   "id": "49c5e509-15f0-45ac-a5a0-3ba69d9f2048",
   "metadata": {},
   "outputs": [
    {
     "name": "stdout",
     "output_type": "stream",
     "text": [
      "15\n"
     ]
    }
   ],
   "source": [
    "# assigment 13\n",
    "## find the sum of all the elements in list\n",
    "def list_sum(lst):\n",
    "    if len(lst)==0:\n",
    "        return 0\n",
    "    else:\n",
    "        return lst[0]+list_sum(lst[1:])\n",
    "numbers=[1,2,3,4,5]\n",
    "print(list_sum(numbers))"
   ]
  },
  {
   "cell_type": "code",
   "execution_count": 37,
   "id": "c031bd20-55fc-4043-b571-f0f493ebde5b",
   "metadata": {},
   "outputs": [
    {
     "name": "stdout",
     "output_type": "stream",
     "text": [
      "True\n",
      "False\n"
     ]
    }
   ],
   "source": [
    "# assigment 14\n",
    "def is_palindrome(s):\n",
    "    if len(s)<=1:\n",
    "        return True\n",
    "    elif s[0]==s[-1]:\n",
    "        return is_palindrome(s[1:-1])\n",
    "    else:\n",
    "        return False\n",
    "print(is_palindrome(\"radar\"))\n",
    "print(is_palindrome(\"python\"))"
   ]
  },
  {
   "cell_type": "code",
   "execution_count": 45,
   "id": "90a1358c-3dc1-4366-a10d-ccbcf99cb5ab",
   "metadata": {},
   "outputs": [
    {
     "name": "stdout",
     "output_type": "stream",
     "text": [
      "6\n"
     ]
    }
   ],
   "source": [
    "# assigment 15\n",
    "def gcd(a,b):\n",
    "    if b==0:\n",
    "        return a\n",
    "    else:\n",
    "        return gcd(b,a%b)\n",
    "\n",
    "print(gcd(48,18))"
   ]
  }
 ],
 "metadata": {
  "kernelspec": {
   "display_name": "Python 3 (ipykernel)",
   "language": "python",
   "name": "python3"
  },
  "language_info": {
   "codemirror_mode": {
    "name": "ipython",
    "version": 3
   },
   "file_extension": ".py",
   "mimetype": "text/x-python",
   "name": "python",
   "nbconvert_exporter": "python",
   "pygments_lexer": "ipython3",
   "version": "3.12.1"
  }
 },
 "nbformat": 4,
 "nbformat_minor": 5
}
