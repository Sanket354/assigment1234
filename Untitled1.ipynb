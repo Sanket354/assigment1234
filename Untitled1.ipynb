{
 "cells": [
  {
   "cell_type": "code",
   "execution_count": 2,
   "id": "f1d6b050-23ad-4e9b-9e3b-4cd031e55f5d",
   "metadata": {},
   "outputs": [
    {
     "data": {
      "text/plain": [
       "{}"
      ]
     },
     "execution_count": 2,
     "metadata": {},
     "output_type": "execute_result"
    }
   ],
   "source": [
    "# assigment 1\n",
    "dict={}\n",
    "dict"
   ]
  },
  {
   "cell_type": "code",
   "execution_count": 3,
   "id": "f702ca12-47f0-4ed4-a0bc-b0d4b661d3f0",
   "metadata": {},
   "outputs": [
    {
     "data": {
      "text/plain": [
       "{'foo': 42}"
      ]
     },
     "execution_count": 3,
     "metadata": {},
     "output_type": "execute_result"
    }
   ],
   "source": [
    "# assigment 2\n",
    "dict={\"foo\":42}\n",
    "dict"
   ]
  },
  {
   "cell_type": "code",
   "execution_count": 12,
   "id": "32cd61ca-ba28-4339-a41a-f0b381607800",
   "metadata": {},
   "outputs": [
    {
     "data": {
      "text/plain": [
       "([1, 2, 3, 4, 5, 6], {'rohan': 43, 'suny': 56, 'raj': 45})"
      ]
     },
     "execution_count": 12,
     "metadata": {},
     "output_type": "execute_result"
    }
   ],
   "source": [
    "# assigment 3\n",
    "lst=[1,2,3,4,5,6]\n",
    "dict={\"rohan\":43,\"suny\":56,\"raj\":45}\n",
    "lst\n",
    "dict\n",
    "lst,dict\n"
   ]
  },
  {
   "cell_type": "code",
   "execution_count": 19,
   "id": "742b701c-a0b7-42d4-ba2c-ceeeaaae7fe6",
   "metadata": {},
   "outputs": [
    {
     "name": "stdout",
     "output_type": "stream",
     "text": [
      "100\n"
     ]
    }
   ],
   "source": [
    "# assigment 4\n",
    "spam={\"bar\":100}\n",
    "print(spam[\"bar\"])"
   ]
  },
  {
   "cell_type": "code",
   "execution_count": 20,
   "id": "9204bd75-8d91-410c-8cd3-a3bb48ce25c8",
   "metadata": {},
   "outputs": [
    {
     "data": {
      "text/plain": [
       "{'bar': 100, 'foo': 42, 'do': 801}"
      ]
     },
     "execution_count": 20,
     "metadata": {},
     "output_type": "execute_result"
    }
   ],
   "source": [
    "# assigment 5\n",
    "spam={\"bar\":100,\"foo\":42,\"do\":801}\n",
    "spam"
   ]
  },
  {
   "cell_type": "code",
   "execution_count": 33,
   "id": "01956bb8-5987-41b6-adc5-070893430f56",
   "metadata": {},
   "outputs": [
    {
     "data": {
      "text/plain": [
       "dict_values([42])"
      ]
     },
     "execution_count": 33,
     "metadata": {},
     "output_type": "execute_result"
    }
   ],
   "source": [
    "# assigment 6\n",
    "spam={\"cat\":42}\n",
    "spam.values()\n"
   ]
  },
  {
   "cell_type": "code",
   "execution_count": 22,
   "id": "4b07653d-30bd-4746-a479-3d1b084e01bb",
   "metadata": {},
   "outputs": [
    {
     "data": {
      "text/plain": [
       "{'bar': 100, 'foo': 42, 'do': 801, 'color': 'black'}"
      ]
     },
     "execution_count": 22,
     "metadata": {},
     "output_type": "execute_result"
    }
   ],
   "source": [
    "# assigment 7\n",
    "spam['color']='black'\n",
    "spam"
   ]
  },
  {
   "cell_type": "code",
   "execution_count": 32,
   "id": "8e56407a-1d00-4b92-a818-b4e0e01d63bc",
   "metadata": {},
   "outputs": [
    {
     "name": "stdout",
     "output_type": "stream",
     "text": [
      "{'raj': 23, 'tej': 43, 'raju': 67}\n"
     ]
    }
   ],
   "source": [
    "# assigment 8\n",
    "def pretty_print():\n",
    "    dict1={\"raj\":23,\"tej\":43,\"raju\":67}\n",
    "    print(dict1)\n",
    "pretty_print()\n"
   ]
  },
  {
   "cell_type": "code",
   "execution_count": null,
   "id": "5833b504-f183-42c0-9be9-a7226754e208",
   "metadata": {},
   "outputs": [],
   "source": []
  }
 ],
 "metadata": {
  "kernelspec": {
   "display_name": "Python 3 (ipykernel)",
   "language": "python",
   "name": "python3"
  },
  "language_info": {
   "codemirror_mode": {
    "name": "ipython",
    "version": 3
   },
   "file_extension": ".py",
   "mimetype": "text/x-python",
   "name": "python",
   "nbconvert_exporter": "python",
   "pygments_lexer": "ipython3",
   "version": "3.12.1"
  }
 },
 "nbformat": 4,
 "nbformat_minor": 5
}
